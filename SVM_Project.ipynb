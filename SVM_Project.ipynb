{
  "cells": [
    {
      "cell_type": "markdown",
      "metadata": {
        "id": "view-in-github",
        "colab_type": "text"
      },
      "source": [
        "<a href=\"https://colab.research.google.com/github/DiaaEssam/Support_Vector_Machine_Implementation/blob/main/SVM_Project.ipynb\" target=\"_parent\"><img src=\"https://colab.research.google.com/assets/colab-badge.svg\" alt=\"Open In Colab\"/></a>"
      ]
    },
    {
      "cell_type": "markdown",
      "metadata": {
        "id": "r_Mk_f_LSPNw"
      },
      "source": [
        "# Separable Case"
      ]
    },
    {
      "cell_type": "markdown",
      "metadata": {
        "id": "ubbFVYY_5ocr"
      },
      "source": [
        "# Importing libraries"
      ]
    },
    {
      "cell_type": "code",
      "execution_count": 1,
      "metadata": {
        "id": "Y4dAiDAw50WO"
      },
      "outputs": [],
      "source": [
        "import numpy as np    \n",
        "from scipy.optimize import Bounds, BFGS                     \n",
        "from scipy.optimize import LinearConstraint, minimize   \n",
        "import matplotlib.pyplot as plt\n",
        "from matplotlib.colors import ListedColormap\n",
        "import seaborn as sns\n",
        "import sklearn.datasets as dt\n",
        "from math import log, e, sqrt,comb"
      ]
    },
    {
      "cell_type": "markdown",
      "metadata": {
        "id": "-LzFASpK4o1m"
      },
      "source": [
        "# Generating our linear separable dataset"
      ]
    },
    {
      "cell_type": "code",
      "execution_count": 2,
      "metadata": {
        "colab": {
          "base_uri": "https://localhost:8080/",
          "height": 265
        },
        "id": "cDd9eZ7Tpy88",
        "outputId": "4ee36292-bfdc-4249-83ed-db0e24d4f922"
      },
      "outputs": [
        {
          "output_type": "display_data",
          "data": {
            "text/plain": [
              "<Figure size 432x288 with 1 Axes>"
            ],
            "image/png": "[encoded data removed]"
          },
          "metadata": {
            "needs_background": "light"
          }
        }
      ],
      "source": [
        "import matplotlib.pyplot as plt\n",
        "from sklearn import datasets\n",
        "\n",
        "X, y = datasets.make_blobs(n_samples=100, centers=2, n_features=2, center_box=(0, 10),random_state=1)\n",
        "plt.plot(X[:, 0][y == 0], X[:, 1][y == 0], 'g^')\n",
        "plt.plot(X[:, 0][y == 1], X[:, 1][y == 1], 'bs')\n",
        "plt.show()"
      ]
    },
    {
      "cell_type": "code",
      "execution_count": 3,
      "metadata": {
        "colab": {
          "base_uri": "https://localhost:8080/"
        },
        "id": "kIBjYzgSs42p",
        "outputId": "d25773c2-804d-4e58-dff5-31f242b643ec"
      },
      "outputs": [
        {
          "output_type": "stream",
          "name": "stdout",
          "text": [
            "[[5.03562768 4.90170624]\n",
            " [0.8473044  2.16380979]\n",
            " [2.72610624 6.69877907]\n",
            " [4.40031478 7.96525611]\n",
            " [2.52946945 2.77469095]\n",
            " [0.80300478 3.06989302]\n",
            " [0.68121359 2.70352413]\n",
            " [0.79395061 2.399795  ]\n",
            " [3.06960087 8.34796864]\n",
            " [4.65873819 7.12767322]]\n"
          ]
        }
      ],
      "source": [
        "print(X[0:10])"
      ]
    },
    {
      "cell_type": "code",
      "execution_count": 4,
      "metadata": {
        "colab": {
          "base_uri": "https://localhost:8080/"
        },
        "id": "8I7yCNjkvLan",
        "outputId": "eb64fe19-b7e4-43c4-d6a2-24ad3e9b80dc"
      },
      "outputs": [
        {
          "output_type": "stream",
          "name": "stdout",
          "text": [
            "[0 1 0 0 1 1 1 1 0 0]\n"
          ]
        }
      ],
      "source": [
        "print(y[:10])"
      ]
    },
    {
      "cell_type": "code",
      "execution_count": 5,
      "metadata": {
        "id": "IMU-jZncxQcB"
      },
      "outputs": [],
      "source": [
        "# we will use Lagrange Multipliers method to minimize our objective function which is in our case f(w,b)=||w||^2/2\n",
        "# Lagrange Multipliers method takes the objective function and add it to it's constraints (they could be equality constraints or inequality constraints)\n",
        "# we then multiply each constraint by a Lagrange Multiplier which is in our case alpha\n",
        "# we then take the derivative of each variable in our lagrange function and they are (w,b,alpha)\n",
        "# we then substitute by each result in our lagrange function and that would give us the dual lagrangian which is a Quadratic programming problem\n",
        "# we can use  minimize() function in scipy.optimize to solve this problem and get the alphas but we have to initialize them first randomly\n",
        "# then we get the parameters w and b"
      ]
    },
    {
      "cell_type": "markdown",
      "metadata": {
        "id": "mxGEx0DY5N-h"
      },
      "source": [
        "# Converting each label with 0 label to -1"
      ]
    },
    {
      "cell_type": "code",
      "execution_count": 6,
      "metadata": {
        "id": "2cI0Zqbb3u7u"
      },
      "outputs": [],
      "source": [
        "y[y==0]=-1"
      ]
    },
    {
      "cell_type": "code",
      "execution_count": 7,
      "metadata": {
        "colab": {
          "base_uri": "https://localhost:8080/"
        },
        "id": "oBi7ILpQ4ckC",
        "outputId": "37bd2d83-ac71-4205-daaf-c34708abe210"
      },
      "outputs": [
        {
          "output_type": "stream",
          "name": "stdout",
          "text": [
            "[-1  1 -1 -1  1  1  1  1 -1 -1]\n"
          ]
        }
      ],
      "source": [
        "print(y[:10])"
      ]
    },
    {
      "cell_type": "markdown",
      "metadata": {
        "id": "_gTCWaVuUAhs"
      },
      "source": [
        "# Splitting the dataset into the Training set and Test set"
      ]
    },
    {
      "cell_type": "code",
      "execution_count": 8,
      "metadata": {
        "colab": {
          "base_uri": "https://localhost:8080/"
        },
        "id": "L_-n4vfy8zrJ",
        "outputId": "b4e04129-5037-4833-e6f1-d1262ecceb87"
      },
      "outputs": [
        {
          "output_type": "stream",
          "name": "stdout",
          "text": [
            "(75, 2) (75,)\n",
            "(25, 2)\n",
            "\n"
          ]
        }
      ],
      "source": [
        "from sklearn.model_selection import train_test_split\n",
        "X_train ,X_test ,y_train ,y_test=train_test_split(X , y, test_size=0.25,random_state=0)\n",
        "print(X_train.shape,y_train.shape)\n",
        "print(X_test.shape)\n",
        "print(\"\")"
      ]
    },
    {
      "cell_type": "markdown",
      "metadata": {
        "id": "AnoIdX7b6UJ8"
      },
      "source": [
        "# Epsilon is a very small number that's needed later on"
      ]
    },
    {
      "cell_type": "code",
      "execution_count": 9,
      "metadata": {
        "id": "vEyIoDaK4fhH"
      },
      "outputs": [],
      "source": [
        "epsilon = 1e-3"
      ]
    },
    {
      "cell_type": "markdown",
      "metadata": {
        "id": "DZ2AIVcK64c3"
      },
      "source": [
        "# lagrange_dual function"
      ]
    },
    {
      "cell_type": "code",
      "execution_count": 10,
      "metadata": {
        "id": "c5o5ITef7CBm"
      },
      "outputs": [],
      "source": [
        "def lagrange_dual(alpha, x, y,dim):\n",
        "    # result to hold final result of lagrange_dual\n",
        "    result_v=np.zeros(x.shape[0]).reshape(1,-1)\n",
        "    # indexes of support vectors\n",
        "    ind_sv = np.where(alpha > epsilon)[0]\n",
        "    for i in ind_sv:\n",
        "      result_v+= alpha[i]*alpha*y[i]*y*((np.dot((x[i]).reshape(-1,1).T,x.T))**dim)\n",
        "    result_v = 0.5*result_v - alpha    \n",
        "    return np.sum(result_v.reshape(-1,1),axis=0)[0]"
      ]
    },
    {
      "cell_type": "markdown",
      "metadata": {
        "id": "ut6S_seaBlFl"
      },
      "source": [
        "# Defining the Constraints"
      ]
    },
    {
      "cell_type": "markdown",
      "metadata": {
        "id": "cyGEyr2X_rUu"
      },
      "source": [
        "## Defining the Linear Constraints (first constraint)\n"
      ]
    },
    {
      "cell_type": "markdown",
      "metadata": {
        "id": "lfiKeOjd2Y5i"
      },
      "source": [
        "summation of alphas multiplied by labels must equal to zero, then alphas would equal to zero \n",
        "\n",
        "we use linear_constraint to implement this constraint \n",
        "\n",
        "0 = summation of alphas * labels = 0\n",
        "\n",
        "The first matrix (labels) is the first parameter in the LinearConstraint() method. The left and right bounds are the second and third arguments."
      ]
    },
    {
      "cell_type": "markdown",
      "metadata": {
        "id": "IRlAq4sFBwVB"
      },
      "source": [
        "## Defining the Bounds (second constraint)"
      ]
    },
    {
      "cell_type": "markdown",
      "metadata": {
        "id": "LIhl5xvl2szF"
      },
      "source": [
        "The bounds on alpha are defined using the Bounds() method. All alphas are constrained to lie between 0 and C (positive)"
      ]
    },
    {
      "cell_type": "markdown",
      "metadata": {
        "id": "b1wPN32_DE5V"
      },
      "source": [
        "# Function to Find Alphas"
      ]
    },
    {
      "cell_type": "code",
      "execution_count": 11,
      "metadata": {
        "id": "4XRIkjJ0CqHo"
      },
      "outputs": [],
      "source": [
        "def optimize_alpha(x, y, C,dim):\n",
        "    m, n = x.shape\n",
        "    np.random.seed(1)\n",
        "    # Initialize alphas to random values\n",
        "    alpha_0 = np.random.rand(m)*C\n",
        "    # Define the constraint\n",
        "    linear_constraint = LinearConstraint(y, [0], [0])\n",
        "    # Define the bounds\n",
        "    bounds_alpha = Bounds(np.zeros(m), np.full(m, C))\n",
        "    # Find the optimal value of alpha\n",
        "    result = minimize(lagrange_dual, alpha_0, args = (x, y,dim), method='trust-constr', \n",
        "                      hess=BFGS(), constraints=[linear_constraint],\n",
        "                      bounds=bounds_alpha)\n",
        "    # The optimized value of alpha lies in result.x\n",
        "    alpha = result.x\n",
        "    return alpha"
      ]
    },
    {
      "cell_type": "markdown",
      "metadata": {
        "id": "GCOYcMY1d8Uk"
      },
      "source": [
        "# Getting parameters w,b"
      ]
    },
    {
      "cell_type": "code",
      "execution_count": 12,
      "metadata": {
        "id": "FphGpNwSDfBK"
      },
      "outputs": [],
      "source": [
        "# we will get w based on the formula given from the dual lagrangian\n",
        "def calculate_w(alpha, y, x):\n",
        "    w=alpha.reshape(-1,1)*y.reshape(-1,1)*x        \n",
        "    return np.sum(w,axis=0)\n",
        " \n",
        "def calculate_b(alpha, y, x, w, C,dim):\n",
        "    C_numeric = C-epsilon\n",
        "    # Indices of support vectors with alpha<C\n",
        "    ind_sv = np.where((alpha > epsilon)&(alpha < C_numeric))[0]\n",
        "    # Take the average    \n",
        "    b=y[np.where((alpha > epsilon)&(alpha < C_numeric))[0]]-(np.dot(x[np.where((alpha > epsilon)&(alpha < C_numeric))[0]],w))**dim\n",
        "    b = b / len(ind_sv)\n",
        "    return np.sum(b)"
      ]
    },
    {
      "cell_type": "markdown",
      "metadata": {
        "id": "dG-SarNVy7TS"
      },
      "source": [
        "# Classifying Points\n"
      ]
    },
    {
      "cell_type": "code",
      "execution_count": 13,
      "metadata": {
        "id": "bjVRUC40y-dQ"
      },
      "outputs": [],
      "source": [
        "def classify_points(x, w, b,dim):\n",
        "    # get y(x)\n",
        "    predicted_labels = np.sum((x*w)**dim, axis=1) + b\n",
        "    # sign method is used for: if array value is greater than 0 it returns 1, if array value is less than 0 it returns -1, and if array value 0 it returns 0.\n",
        "    predicted_labels = np.sign(predicted_labels)\n",
        "    # Assign a label arbitrarily a -1 if it is zero\n",
        "    predicted_labels[predicted_labels==0] = -1\n",
        "    return predicted_labels\n",
        " \n",
        "def misclassification_rate(labels, predictions):\n",
        "    total = len(labels)\n",
        "    errors = sum(labels != predictions)\n",
        "    return errors/total"
      ]
    },
    {
      "cell_type": "markdown",
      "metadata": {
        "id": "Woe2-3K3d_H6"
      },
      "source": [
        "# Measuring Generalization error"
      ]
    },
    {
      "cell_type": "code",
      "execution_count": 14,
      "metadata": {
        "id": "Md0iWvc1eG-l"
      },
      "outputs": [],
      "source": [
        "def Gen_Error(empirical_err,x,VC,delta):\n",
        "  Gen_err=[]\n",
        "  # based on the video and some websites\n",
        "  Gen_err.append(empirical_err + sqrt((8/x.shape[0]) * log(((4 * (2 * x.shape[0])**VC)+1)/delta)))\n",
        "  # based on book and doctor\n",
        "  Gen_err.append(empirical_err + sqrt((2 * VC * log((e * x.shape[0]) / VC)) / x.shape[0]) + sqrt(log(1 / delta) /2 * x.shape[0]))\n",
        "  # choose maximum Generalization error\n",
        "  return max(Gen_err)"
      ]
    },
    {
      "cell_type": "markdown",
      "metadata": {
        "id": "unXwZ048zsg2"
      },
      "source": [
        "# Plotting the Margin and Hyperplane\n",
        "\n",
        "\n"
      ]
    },
    {
      "cell_type": "code",
      "execution_count": 15,
      "metadata": {
        "id": "jj6A6g88zsuk"
      },
      "outputs": [],
      "source": [
        "def plot_hyperplane(w, b):\n",
        "    x_coord = np.array(plt.gca().get_xlim())\n",
        "    y_coord = -b/w[1] - w[0]/w[1] * x_coord\n",
        "    plt.plot(x_coord, y_coord, color='red')\n",
        "\n",
        "def plot_margin(w, b):\n",
        "    x_coord = np.array(plt.gca().get_xlim())\n",
        "    ypos_coord = 1/w[1] - b/w[1] - w[0]/w[1] * x_coord\n",
        "    plt.plot(x_coord, ypos_coord, '--', color='green') \n",
        "    yneg_coord = -1/w[1] - b/w[1] - w[0]/w[1] * x_coord\n",
        "    plt.plot(x_coord, yneg_coord, '--', color='magenta')"
      ]
    },
    {
      "cell_type": "code",
      "execution_count": 16,
      "metadata": {
        "id": "pnQLzEti7ui5"
      },
      "outputs": [],
      "source": [
        "def plot_x(x, y, alpha=[], C=0):\n",
        "    sns.scatterplot(x=x[:,0],y=x[:, 1], style=y,\n",
        "    hue=y, markers=['s', 'P'],\n",
        "    palette=['magenta', 'green'])\n",
        "    if len(alpha) > 0:\n",
        "        alpha_str = np.char.mod('%.1f', np.round(alpha, 1))\n",
        "        ind_sv = np.where(alpha > epsilon)[0]\n",
        "        for i in ind_sv:   \n",
        "            plt.gca().text(x[i,0], x[i, 1]-.25, alpha_str[i] )"
      ]
    },
    {
      "cell_type": "markdown",
      "metadata": {
        "id": "KpIyZ4QB7Sng"
      },
      "source": [
        "# Run and train the SVM for different cases"
      ]
    },
    {
      "cell_type": "code",
      "execution_count": 17,
      "metadata": {
        "id": "Rqs6ioF_7TsG"
      },
      "outputs": [],
      "source": [
        "def display_SVM_result(x, y, C,dim,kernel):\n",
        "    # Get the alphas\n",
        "    alpha = optimize_alpha(x, y, C,dim)\n",
        "    # Get the weights\n",
        "    w = calculate_w(alpha, y, x)\n",
        "    b = calculate_b(alpha, y, x, w, C,dim)\n",
        "    if not kernel:\n",
        "      plot_x(x, y, alpha, C)\n",
        "      xlim = plt.gca().get_xlim()\n",
        "      ylim = plt.gca().get_ylim()\n",
        "      plot_hyperplane(w, b)\n",
        "      plot_margin(w, b)\n",
        "      plt.xlim(xlim)\n",
        "      plt.ylim(ylim)\n",
        "    # measuring VC dimension, combination(n+k,n)\n",
        "    if kernel:\n",
        "       VC=comb(w.shape[0]+dim,w.shape[0])\n",
        "    # measuring VC dimension, VC=d+1\n",
        "    else:\n",
        "      VC=w.shape[0]+1\n",
        "    # measuring delta\n",
        "    delta = 0.5\n",
        "    # Training \n",
        "    predictions = classify_points(x, w, b,dim)\n",
        "    empirical_err = misclassification_rate(y, predictions)\n",
        "    Gen_Error_Calc=Gen_Error(empirical_err,x,VC,delta)\n",
        "    title = 'C = ' + str(C) + ',  Gen_Error: ' + '{:.1f}'.format(Gen_Error_Calc) + '%' + ',  VC= ' + str(VC)\n",
        "    title = title + ',  total SV = ' + str(len(alpha[alpha > epsilon]))\n",
        "    if not kernel:\n",
        "      plt.title(title)\n",
        "    return w,b,dim,title"
      ]
    },
    {
      "cell_type": "markdown",
      "metadata": {
        "id": "1C5pNx0cABPw"
      },
      "source": [
        "# Run and train the SVM for separable case (hard margin)"
      ]
    },
    {
      "cell_type": "code",
      "source": [
        "w,b,dim,_=display_SVM_result(X_train, y_train, 100,1,False)    \n",
        "plt.show()"
      ],
      "metadata": {
        "colab": {
          "base_uri": "https://localhost:8080/",
          "height": 336
        },
        "id": "wTi1Qa-IAF7Z",
        "outputId": "009b3ea0-d843-49ae-b589-b76e3cd7e24b"
      },
      "execution_count": 18,
      "outputs": [
        {
          "output_type": "stream",
          "name": "stderr",
          "text": [
            "/usr/local/lib/python3.8/dist-packages/scipy/optimize/_hessian_update_strategy.py:182: UserWarning: delta_grad == 0.0. Check if the approximated function is linear. If the function is linear better results can be obtained by defining the Hessian as zero instead of using quasi-Newton approximations.\n",
            "  warn('delta_grad == 0.0. Check if the approximated '\n"
          ]
        },
        {
          "output_type": "display_data",
          "data": {
            "text/plain": [
              "<Figure size 432x288 with 1 Axes>"
            ],
            "image/png": "[encoded data removed]"
          },
          "metadata": {
            "needs_background": "light"
          }
        }
      ]
    },
    {
      "cell_type": "markdown",
      "metadata": {
        "id": "hktozGD-HjDp"
      },
      "source": [
        "# Testing"
      ]
    },
    {
      "cell_type": "code",
      "execution_count": 19,
      "metadata": {
        "id": "_peqJ1NEHk67",
        "colab": {
          "base_uri": "https://localhost:8080/"
        },
        "outputId": "60d7ab70-6b87-48f8-ac18-f62da2ecac37"
      },
      "outputs": [
        {
          "output_type": "stream",
          "name": "stdout",
          "text": [
            "[[ 1  1]\n",
            " [-1 -1]\n",
            " [-1 -1]\n",
            " [ 1  1]\n",
            " [-1 -1]\n",
            " [-1 -1]\n",
            " [ 1  1]\n",
            " [-1 -1]\n",
            " [-1 -1]\n",
            " [ 1  1]\n",
            " [ 1  1]\n",
            " [-1 -1]\n",
            " [-1 -1]\n",
            " [-1 -1]\n",
            " [ 1  1]\n",
            " [-1 -1]\n",
            " [ 1  1]\n",
            " [-1 -1]\n",
            " [-1 -1]\n",
            " [-1 -1]\n",
            " [ 1  1]\n",
            " [ 1  1]\n",
            " [-1 -1]\n",
            " [ 1  1]\n",
            " [ 1  1]]\n"
          ]
        }
      ],
      "source": [
        "y_pred=classify_points(X_test, w, b,dim).astype(int)\n",
        "print(np.concatenate((y_pred.reshape(len(y_pred),1),y_test.reshape(len(y_test),1)),1))"
      ]
    },
    {
      "cell_type": "markdown",
      "source": [
        "# Plotting the decision boundary"
      ],
      "metadata": {
        "id": "W11qyGR_EEwJ"
      }
    },
    {
      "cell_type": "code",
      "source": [
        "def plot_decision_boundary (x_train,y_train,w,b,dim):\n",
        "  Features_names=['X1','X2']\n",
        "  Target_names=np.array(['Negative','Positive','dummy name'])\n",
        "  custom_cmap = ListedColormap(['#b4a7d6','#93c47d'])\n",
        "  formatter = plt.FuncFormatter(lambda i, *args: Target_names[int(i)])\n",
        "  x0, x1 = np.meshgrid(\n",
        "      np.linspace(x_train[:,0].min(), x_train[:, 0].max(), 500).reshape(-1, 1),\n",
        "      np.linspace(x_train[:, 1].min(), x_train[:, 1].max(), 500).reshape(-1, 1)\n",
        "  )\n",
        "\n",
        "  X_new = np.c_[x0.ravel(), x1.ravel()]\n",
        "  y_pred = classify_points(X_new,w,b,dim)\n",
        "  zz = y_pred.reshape(x0.shape)\n",
        "\n",
        "  plt.figure(figsize=(10, 5))\n",
        "  plt.contourf(x0, x1, zz, cmap=custom_cmap)\n",
        "  plt.scatter(x_train[:, 0], x_train[:, 1], c=y_train)\n",
        "  plt.colorbar(ticks=[0, 1, 2], format=formatter)\n",
        "\n",
        "  plt.xlabel(Features_names[0])\n",
        "  plt.ylabel(Features_names[1])\n",
        "  plt.title(\"Decision boundary of SVM\")\n",
        "  plt.tight_layout()\n",
        "  plt.show()"
      ],
      "metadata": {
        "id": "S0IrUCbbEKcp"
      },
      "execution_count": 20,
      "outputs": []
    },
    {
      "cell_type": "code",
      "source": [
        "plot_decision_boundary(X_train,y_train,w,b,dim)"
      ],
      "metadata": {
        "colab": {
          "base_uri": "https://localhost:8080/",
          "height": 369
        },
        "id": "joaOx7eUGTu2",
        "outputId": "f833abf8-af42-4ed5-d104-279540a6a091"
      },
      "execution_count": 21,
      "outputs": [
        {
          "output_type": "display_data",
          "data": {
            "text/plain": [
              "<Figure size 720x360 with 2 Axes>"
            ],
            "image/png": "[encoded data removed]"
          },
          "metadata": {
            "needs_background": "light"
          }
        }
      ]
    },
    {
      "cell_type": "markdown",
      "metadata": {
        "id": "j-8k7nccSfcz"
      },
      "source": [
        "# Non_Separable Case"
      ]
    },
    {
      "cell_type": "markdown",
      "metadata": {
        "id": "OKFKcz0USqql"
      },
      "source": [
        "# Generating our non-linear separable dataset"
      ]
    },
    {
      "cell_type": "code",
      "execution_count": 22,
      "metadata": {
        "id": "ZEN6BtvUSr0Z",
        "colab": {
          "base_uri": "https://localhost:8080/",
          "height": 729
        },
        "outputId": "fc5b81f9-8685-40e1-e075-f69b8a2fa6a9"
      },
      "outputs": [
        {
          "output_type": "display_data",
          "data": {
            "text/plain": [
              "<Figure size 720x720 with 1 Axes>"
            ],
            "image/png": "[encoded data removed]"
          },
          "metadata": {
            "needs_background": "light"
          }
        }
      ],
      "source": [
        "np.random.seed(0)\n",
        "X = np.random.randn(100, 2)\n",
        "y = np.logical_xor(X[:, 0] > 0,\n",
        "                       X[:, 1] > 0)\n",
        "y = np.where(y, 1, -1)\n",
        "\n",
        "fig = plt.figure(figsize=(10,10))\n",
        "plt.scatter(X[y == 1, 0],\n",
        "            X[y == 1, 1],\n",
        "            c='b', marker='x',\n",
        "            label='1')\n",
        "plt.scatter(X[y == -1, 0],\n",
        "            X[y == -1, 1],\n",
        "            c='r',\n",
        "            marker='s',\n",
        "            label='-1')\n",
        "\n",
        "plt.xlim([-3, 3])\n",
        "plt.ylim([-3, 3])\n",
        "plt.legend(loc='best')\n",
        "plt.tight_layout()\n",
        "plt.show()"
      ]
    },
    {
      "cell_type": "code",
      "execution_count": 23,
      "metadata": {
        "id": "T6seOF8rTm83",
        "colab": {
          "base_uri": "https://localhost:8080/"
        },
        "outputId": "632354a7-fe20-44e6-e17e-41c061b2abd0"
      },
      "outputs": [
        {
          "output_type": "stream",
          "name": "stdout",
          "text": [
            "[[ 1.76405235  0.40015721]\n",
            " [ 0.97873798  2.2408932 ]\n",
            " [ 1.86755799 -0.97727788]\n",
            " [ 0.95008842 -0.15135721]\n",
            " [-0.10321885  0.4105985 ]\n",
            " [ 0.14404357  1.45427351]\n",
            " [ 0.76103773  0.12167502]\n",
            " [ 0.44386323  0.33367433]\n",
            " [ 1.49407907 -0.20515826]\n",
            " [ 0.3130677  -0.85409574]]\n"
          ]
        }
      ],
      "source": [
        "print(X[0:10])"
      ]
    },
    {
      "cell_type": "code",
      "execution_count": 24,
      "metadata": {
        "id": "BzLpaDoJTtrw",
        "colab": {
          "base_uri": "https://localhost:8080/"
        },
        "outputId": "c3b05dc8-bae6-44d5-c3e1-f60cd8044ada"
      },
      "outputs": [
        {
          "output_type": "stream",
          "name": "stdout",
          "text": [
            "[-1 -1  1  1  1 -1 -1 -1  1  1]\n"
          ]
        }
      ],
      "source": [
        "print(y[:10])"
      ]
    },
    {
      "cell_type": "markdown",
      "metadata": {
        "id": "kIYjzCSiUGxm"
      },
      "source": [
        "# Splitting the dataset into the Training set and Test set"
      ]
    },
    {
      "cell_type": "code",
      "execution_count": 25,
      "metadata": {
        "id": "tsNIvSqcUQKI",
        "colab": {
          "base_uri": "https://localhost:8080/"
        },
        "outputId": "63e88c19-4402-4e08-f7d9-92bef31c70d4"
      },
      "outputs": [
        {
          "output_type": "stream",
          "name": "stdout",
          "text": [
            "(75, 2) (75,)\n",
            "(25, 2)\n",
            "\n"
          ]
        }
      ],
      "source": [
        "X_train ,X_test ,y_train ,y_test=train_test_split(X , y, test_size=0.25,random_state=0)\n",
        "print(X_train.shape,y_train.shape)\n",
        "print(X_test.shape)\n",
        "print(\"\")"
      ]
    },
    {
      "cell_type": "markdown",
      "metadata": {
        "id": "ti_UexOFNTKM"
      },
      "source": [
        "# Run and train the SVM for non-separable case (soft margin)"
      ]
    },
    {
      "cell_type": "code",
      "execution_count": 26,
      "metadata": {
        "id": "GVh3ovR5NiPQ",
        "colab": {
          "base_uri": "https://localhost:8080/",
          "height": 281
        },
        "outputId": "73cd54f7-2101-4f95-90ff-7e0b3e5d3826"
      },
      "outputs": [
        {
          "output_type": "display_data",
          "data": {
            "text/plain": [
              "<Figure size 432x288 with 1 Axes>"
            ],
            "image/png": "[encoded data removed]"
          },
          "metadata": {
            "needs_background": "light"
          }
        }
      ],
      "source": [
        "w,b,dim,_=display_SVM_result(X_train, y_train, 100,1,False)    \n",
        "plt.show()"
      ]
    },
    {
      "cell_type": "markdown",
      "metadata": {
        "id": "E4NozxpgpZwr"
      },
      "source": [
        "# Testing"
      ]
    },
    {
      "cell_type": "code",
      "execution_count": 27,
      "metadata": {
        "id": "qQRZDVX8peIq",
        "colab": {
          "base_uri": "https://localhost:8080/"
        },
        "outputId": "bb38e49f-8eca-4a8c-cb24-69a0ba11b45e"
      },
      "outputs": [
        {
          "output_type": "stream",
          "name": "stdout",
          "text": [
            "[[ 1 -1]\n",
            " [-1  1]\n",
            " [-1  1]\n",
            " [-1 -1]\n",
            " [ 1  1]\n",
            " [ 1  1]\n",
            " [ 1 -1]\n",
            " [ 1  1]\n",
            " [-1 -1]\n",
            " [ 1  1]\n",
            " [ 1 -1]\n",
            " [-1  1]\n",
            " [-1  1]\n",
            " [-1  1]\n",
            " [-1 -1]\n",
            " [ 1 -1]\n",
            " [ 1 -1]\n",
            " [ 1 -1]\n",
            " [ 1  1]\n",
            " [-1  1]\n",
            " [-1  1]\n",
            " [ 1 -1]\n",
            " [-1  1]\n",
            " [-1 -1]\n",
            " [ 1  1]]\n"
          ]
        }
      ],
      "source": [
        "y_pred=classify_points(X_test, w, b,dim).astype(int)\n",
        "print(np.concatenate((y_pred.reshape(len(y_pred),1),y_test.reshape(len(y_test),1)),1))"
      ]
    },
    {
      "cell_type": "markdown",
      "source": [
        "# Plotting the decision boundary"
      ],
      "metadata": {
        "id": "r2QCGIZ4RVxh"
      }
    },
    {
      "cell_type": "code",
      "source": [
        "plot_decision_boundary(X_train,y_train,w,b,dim)"
      ],
      "metadata": {
        "id": "9an2ecHKRayT",
        "colab": {
          "base_uri": "https://localhost:8080/",
          "height": 369
        },
        "outputId": "ff0e44c1-08db-4d65-84d2-b0282b37f96b"
      },
      "execution_count": 28,
      "outputs": [
        {
          "output_type": "display_data",
          "data": {
            "text/plain": [
              "<Figure size 720x360 with 2 Axes>"
            ],
            "image/png": "[encoded data removed]"
          },
          "metadata": {
            "needs_background": "light"
          }
        }
      ]
    },
    {
      "cell_type": "markdown",
      "metadata": {
        "id": "CWozOQ2uvGXw"
      },
      "source": [
        "# Kernel with dimension 8"
      ]
    },
    {
      "cell_type": "markdown",
      "metadata": {
        "id": "GJseOpdR0oqX"
      },
      "source": [
        "# Run and train for non-separable kernel case "
      ]
    },
    {
      "cell_type": "code",
      "execution_count": 29,
      "metadata": {
        "id": "BgOJbGGH0wq6",
        "colab": {
          "base_uri": "https://localhost:8080/"
        },
        "outputId": "6e55070e-fcad-4800-806d-0779c891f19c"
      },
      "outputs": [
        {
          "output_type": "stream",
          "name": "stdout",
          "text": [
            "C = 100,  Gen_Error: 7.0%,  VC= 45,  total SV = 36\n"
          ]
        }
      ],
      "source": [
        "w,b,dim,title=display_SVM_result(X_train, y_train, 100,8,True)\n",
        "print(title)"
      ]
    },
    {
      "cell_type": "markdown",
      "source": [
        "# Testing"
      ],
      "metadata": {
        "id": "JqMqArBpUMBy"
      }
    },
    {
      "cell_type": "code",
      "source": [
        "y_pred=classify_points(X_test, w, b,dim).astype(int)\n",
        "print(np.concatenate((y_pred.reshape(len(y_pred),1),y_test.reshape(len(y_test),1)),1))"
      ],
      "metadata": {
        "id": "uVcKDtL6UOXi",
        "colab": {
          "base_uri": "https://localhost:8080/"
        },
        "outputId": "5f5739f0-4140-4025-e454-ed16f627abac"
      },
      "execution_count": 30,
      "outputs": [
        {
          "output_type": "stream",
          "name": "stdout",
          "text": [
            "[[-1 -1]\n",
            " [ 1  1]\n",
            " [ 1  1]\n",
            " [ 1 -1]\n",
            " [-1  1]\n",
            " [ 1  1]\n",
            " [ 1 -1]\n",
            " [ 1  1]\n",
            " [ 1 -1]\n",
            " [ 1  1]\n",
            " [-1 -1]\n",
            " [-1  1]\n",
            " [ 1  1]\n",
            " [-1  1]\n",
            " [-1 -1]\n",
            " [-1 -1]\n",
            " [-1 -1]\n",
            " [ 1 -1]\n",
            " [ 1  1]\n",
            " [ 1  1]\n",
            " [ 1  1]\n",
            " [-1 -1]\n",
            " [ 1  1]\n",
            " [-1 -1]\n",
            " [-1  1]]\n"
          ]
        }
      ]
    },
    {
      "cell_type": "markdown",
      "source": [
        "# Plotting the decision boundary"
      ],
      "metadata": {
        "id": "rsrsn1CxUXam"
      }
    },
    {
      "cell_type": "code",
      "source": [
        "plot_decision_boundary(X_train,y_train,w,b,dim)"
      ],
      "metadata": {
        "id": "ionWALsHUXzc",
        "colab": {
          "base_uri": "https://localhost:8080/",
          "height": 369
        },
        "outputId": "cf929e4e-79d4-4db3-ab98-2a15e1352ddb"
      },
      "execution_count": 31,
      "outputs": [
        {
          "output_type": "display_data",
          "data": {
            "text/plain": [
              "<Figure size 720x360 with 2 Axes>"
            ],
            "image/png": "[encoded data removed]"
          },
          "metadata": {
            "needs_background": "light"
          }
        }
      ]
    }
  ],
  "metadata": {
    "colab": {
      "provenance": [],
      "authorship_tag": "ABX9TyPK8rpxv2QE6aXJ6kamr75a",
      "include_colab_link": true
    },
    "kernelspec": {
      "display_name": "Python 3",
      "name": "python3"
    },
    "language_info": {
      "name": "python"
    }
  },
  "nbformat": 4,
  "nbformat_minor": 0
}